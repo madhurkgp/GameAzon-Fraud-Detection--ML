{
 "cells": [
  {
   "cell_type": "code",
   "execution_count": 1,
   "metadata": {
    "collapsed": true
   },
   "outputs": [],
   "source": [
    "import pandas as pd\n",
    "from datetime import datetime\n",
    "import numpy as np"
   ]
  },
  {
   "cell_type": "code",
   "execution_count": 2,
   "metadata": {
    "collapsed": true
   },
   "outputs": [],
   "source": [
    "dataset=pd.read_csv('GameAzon - Usecase/fraud_or_not/train.csv')"
   ]
  },
  {
   "cell_type": "code",
   "execution_count": 3,
   "metadata": {},
   "outputs": [
    {
     "data": {
      "text/html": [
       "<div>\n",
       "<style>\n",
       "    .dataframe thead tr:only-child th {\n",
       "        text-align: right;\n",
       "    }\n",
       "\n",
       "    .dataframe thead th {\n",
       "        text-align: left;\n",
       "    }\n",
       "\n",
       "    .dataframe tbody tr th {\n",
       "        vertical-align: top;\n",
       "    }\n",
       "</style>\n",
       "<table border=\"1\" class=\"dataframe\">\n",
       "  <thead>\n",
       "    <tr style=\"text-align: right;\">\n",
       "      <th></th>\n",
       "      <th>trans_id</th>\n",
       "      <th>fraud_or_not</th>\n",
       "      <th>trans_dt</th>\n",
       "      <th>trans_amt</th>\n",
       "      <th>prod_code</th>\n",
       "      <th>card_no1</th>\n",
       "      <th>card_no2</th>\n",
       "      <th>card_no3</th>\n",
       "      <th>card_no4</th>\n",
       "      <th>card_no5</th>\n",
       "      <th>...</th>\n",
       "      <th>fs_31</th>\n",
       "      <th>fs_32</th>\n",
       "      <th>fs_33</th>\n",
       "      <th>fs_34</th>\n",
       "      <th>fs_35</th>\n",
       "      <th>fs_36</th>\n",
       "      <th>fs_37</th>\n",
       "      <th>fs_38</th>\n",
       "      <th>device_type</th>\n",
       "      <th>device_info</th>\n",
       "    </tr>\n",
       "  </thead>\n",
       "  <tbody>\n",
       "    <tr>\n",
       "      <th>0</th>\n",
       "      <td>2987000</td>\n",
       "      <td>0</td>\n",
       "      <td>86400</td>\n",
       "      <td>68.5</td>\n",
       "      <td>W</td>\n",
       "      <td>13926</td>\n",
       "      <td>NaN</td>\n",
       "      <td>150.0</td>\n",
       "      <td>discover</td>\n",
       "      <td>142.0</td>\n",
       "      <td>...</td>\n",
       "      <td>NaN</td>\n",
       "      <td>NaN</td>\n",
       "      <td>NaN</td>\n",
       "      <td>NaN</td>\n",
       "      <td>NaN</td>\n",
       "      <td>NaN</td>\n",
       "      <td>NaN</td>\n",
       "      <td>NaN</td>\n",
       "      <td>NaN</td>\n",
       "      <td>NaN</td>\n",
       "    </tr>\n",
       "    <tr>\n",
       "      <th>1</th>\n",
       "      <td>2987004</td>\n",
       "      <td>0</td>\n",
       "      <td>86506</td>\n",
       "      <td>50.0</td>\n",
       "      <td>H</td>\n",
       "      <td>4497</td>\n",
       "      <td>514.0</td>\n",
       "      <td>150.0</td>\n",
       "      <td>mastercard</td>\n",
       "      <td>102.0</td>\n",
       "      <td>...</td>\n",
       "      <td>samsung browser 6.2</td>\n",
       "      <td>32.0</td>\n",
       "      <td>2220x1080</td>\n",
       "      <td>match_status:2</td>\n",
       "      <td>True</td>\n",
       "      <td>False</td>\n",
       "      <td>True</td>\n",
       "      <td>True</td>\n",
       "      <td>mobile</td>\n",
       "      <td>SAMSUNG SM-G892A Build/NRD90M</td>\n",
       "    </tr>\n",
       "    <tr>\n",
       "      <th>2</th>\n",
       "      <td>2987005</td>\n",
       "      <td>0</td>\n",
       "      <td>86510</td>\n",
       "      <td>49.0</td>\n",
       "      <td>W</td>\n",
       "      <td>5937</td>\n",
       "      <td>555.0</td>\n",
       "      <td>150.0</td>\n",
       "      <td>visa</td>\n",
       "      <td>226.0</td>\n",
       "      <td>...</td>\n",
       "      <td>NaN</td>\n",
       "      <td>NaN</td>\n",
       "      <td>NaN</td>\n",
       "      <td>NaN</td>\n",
       "      <td>NaN</td>\n",
       "      <td>NaN</td>\n",
       "      <td>NaN</td>\n",
       "      <td>NaN</td>\n",
       "      <td>NaN</td>\n",
       "      <td>NaN</td>\n",
       "    </tr>\n",
       "    <tr>\n",
       "      <th>3</th>\n",
       "      <td>2987006</td>\n",
       "      <td>0</td>\n",
       "      <td>86522</td>\n",
       "      <td>159.0</td>\n",
       "      <td>W</td>\n",
       "      <td>12308</td>\n",
       "      <td>360.0</td>\n",
       "      <td>150.0</td>\n",
       "      <td>visa</td>\n",
       "      <td>166.0</td>\n",
       "      <td>...</td>\n",
       "      <td>NaN</td>\n",
       "      <td>NaN</td>\n",
       "      <td>NaN</td>\n",
       "      <td>NaN</td>\n",
       "      <td>NaN</td>\n",
       "      <td>NaN</td>\n",
       "      <td>NaN</td>\n",
       "      <td>NaN</td>\n",
       "      <td>NaN</td>\n",
       "      <td>NaN</td>\n",
       "    </tr>\n",
       "    <tr>\n",
       "      <th>4</th>\n",
       "      <td>2987007</td>\n",
       "      <td>0</td>\n",
       "      <td>86529</td>\n",
       "      <td>422.5</td>\n",
       "      <td>W</td>\n",
       "      <td>12695</td>\n",
       "      <td>490.0</td>\n",
       "      <td>150.0</td>\n",
       "      <td>visa</td>\n",
       "      <td>226.0</td>\n",
       "      <td>...</td>\n",
       "      <td>NaN</td>\n",
       "      <td>NaN</td>\n",
       "      <td>NaN</td>\n",
       "      <td>NaN</td>\n",
       "      <td>NaN</td>\n",
       "      <td>NaN</td>\n",
       "      <td>NaN</td>\n",
       "      <td>NaN</td>\n",
       "      <td>NaN</td>\n",
       "      <td>NaN</td>\n",
       "    </tr>\n",
       "  </tbody>\n",
       "</table>\n",
       "<p>5 rows × 434 columns</p>\n",
       "</div>"
      ],
      "text/plain": [
       "   trans_id  fraud_or_not  trans_dt  trans_amt prod_code  card_no1  card_no2  \\\n",
       "0   2987000             0     86400       68.5         W     13926       NaN   \n",
       "1   2987004             0     86506       50.0         H      4497     514.0   \n",
       "2   2987005             0     86510       49.0         W      5937     555.0   \n",
       "3   2987006             0     86522      159.0         W     12308     360.0   \n",
       "4   2987007             0     86529      422.5         W     12695     490.0   \n",
       "\n",
       "   card_no3    card_no4  card_no5              ...                \\\n",
       "0     150.0    discover     142.0              ...                 \n",
       "1     150.0  mastercard     102.0              ...                 \n",
       "2     150.0        visa     226.0              ...                 \n",
       "3     150.0        visa     166.0              ...                 \n",
       "4     150.0        visa     226.0              ...                 \n",
       "\n",
       "                 fs_31  fs_32      fs_33           fs_34  fs_35  fs_36 fs_37  \\\n",
       "0                  NaN    NaN        NaN             NaN    NaN    NaN   NaN   \n",
       "1  samsung browser 6.2   32.0  2220x1080  match_status:2   True  False  True   \n",
       "2                  NaN    NaN        NaN             NaN    NaN    NaN   NaN   \n",
       "3                  NaN    NaN        NaN             NaN    NaN    NaN   NaN   \n",
       "4                  NaN    NaN        NaN             NaN    NaN    NaN   NaN   \n",
       "\n",
       "   fs_38  device_type                    device_info  \n",
       "0    NaN          NaN                            NaN  \n",
       "1   True       mobile  SAMSUNG SM-G892A Build/NRD90M  \n",
       "2    NaN          NaN                            NaN  \n",
       "3    NaN          NaN                            NaN  \n",
       "4    NaN          NaN                            NaN  \n",
       "\n",
       "[5 rows x 434 columns]"
      ]
     },
     "execution_count": 3,
     "metadata": {},
     "output_type": "execute_result"
    }
   ],
   "source": [
    "dataset.head()"
   ]
  },
  {
   "cell_type": "code",
   "execution_count": 4,
   "metadata": {
    "collapsed": true
   },
   "outputs": [],
   "source": [
    "max_dt=max(dataset['trans_dt'])\n",
    "min_dt=min(dataset['trans_dt'])"
   ]
  },
  {
   "cell_type": "code",
   "execution_count": 5,
   "metadata": {},
   "outputs": [
    {
     "data": {
      "text/plain": [
       "(15811131, 86400)"
      ]
     },
     "execution_count": 5,
     "metadata": {},
     "output_type": "execute_result"
    }
   ],
   "source": [
    "max_dt,min_dt"
   ]
  },
  {
   "cell_type": "code",
   "execution_count": 6,
   "metadata": {
    "collapsed": true
   },
   "outputs": [],
   "source": [
    "#processing card_no1,card_no2,card_no3,card_no5\n",
    "dataset['cat_card']=1\n",
    "dataset.loc[(np.isnan(dataset['card_no1'])) & (np.isnan(dataset['card_no2'])) & (np.isnan(dataset['card_no3'])) & (np.isnan(dataset['card_no5'])),'cat_card']=0"
   ]
  },
  {
   "cell_type": "code",
   "execution_count": 7,
   "metadata": {
    "collapsed": true
   },
   "outputs": [],
   "source": [
    "#processing address1,address2\n",
    "dataset['cat_addr']=1\n",
    "dataset.loc[(np.isnan(dataset['address1'])) & (np.isnan(dataset['address2'])),'cat_addr']=0"
   ]
  },
  {
   "cell_type": "code",
   "execution_count": 8,
   "metadata": {
    "collapsed": true
   },
   "outputs": [],
   "source": [
    "#processing district1,district2\n",
    "dataset['cat_dist']=1\n",
    "dataset.loc[(np.isnan(dataset['district1'])) & (np.isnan(dataset['district2'])),'cat_dist']=0"
   ]
  },
  {
   "cell_type": "code",
   "execution_count": 9,
   "metadata": {
    "collapsed": true
   },
   "outputs": [],
   "source": [
    "#processing P_emaildomain\n",
    "dataset['P_emaildomain']=dataset['P_emaildomain'].apply(lambda email:str(email).split('.')[0])\n",
    "#processing R_emaildomain\n",
    "dataset['R_emaildomain']=dataset['R_emaildomain'].apply(lambda email:str(email).split('.')[0])"
   ]
  },
  {
   "cell_type": "code",
   "execution_count": 10,
   "metadata": {
    "collapsed": true
   },
   "outputs": [],
   "source": [
    "#processing fs_33\n",
    "def res_mul(val):\n",
    "    if val is not np.NaN:\n",
    "        val = val.split('x')\n",
    "        return int(val[0].strip())*int(val[1].strip())\n",
    "    \n",
    "dataset['fs_33'] = dataset['fs_33'].apply(res_mul)\n",
    "\n",
    "#processing fs_23\n",
    "dataset['fs_23'] = dataset['fs_23'].apply(lambda x: str(x).split(':')[-1])\n",
    "\n",
    "#processing fs_30\n",
    "dataset['fs_30'] = dataset['fs_30'].apply(lambda x: str(x).split(' ')[0])\n",
    "\n",
    "#processing fs_31\n",
    "dataset['fs_31'] = dataset['fs_31'].apply(lambda x: str(x).split(' ')[0])\n"
   ]
  },
  {
   "cell_type": "code",
   "execution_count": 11,
   "metadata": {
    "collapsed": true
   },
   "outputs": [],
   "source": [
    "# dataset.isnull().sum()"
   ]
  },
  {
   "cell_type": "code",
   "execution_count": 12,
   "metadata": {},
   "outputs": [
    {
     "data": {
      "text/plain": [
       "(472432, 437)"
      ]
     },
     "execution_count": 12,
     "metadata": {},
     "output_type": "execute_result"
    }
   ],
   "source": [
    "dataset.shape"
   ]
  },
  {
   "cell_type": "code",
   "execution_count": 13,
   "metadata": {
    "collapsed": true
   },
   "outputs": [],
   "source": [
    "info_df=pd.read_csv(r'../info.psv',sep='|')"
   ]
  },
  {
   "cell_type": "code",
   "execution_count": 14,
   "metadata": {},
   "outputs": [
    {
     "data": {
      "text/html": [
       "<div>\n",
       "<style>\n",
       "    .dataframe thead tr:only-child th {\n",
       "        text-align: right;\n",
       "    }\n",
       "\n",
       "    .dataframe thead th {\n",
       "        text-align: left;\n",
       "    }\n",
       "\n",
       "    .dataframe tbody tr th {\n",
       "        vertical-align: top;\n",
       "    }\n",
       "</style>\n",
       "<table border=\"1\" class=\"dataframe\">\n",
       "  <thead>\n",
       "    <tr style=\"text-align: right;\">\n",
       "      <th></th>\n",
       "      <th>columns</th>\n",
       "      <th>na_values</th>\n",
       "      <th>non_na_values</th>\n",
       "    </tr>\n",
       "  </thead>\n",
       "  <tbody>\n",
       "    <tr>\n",
       "      <th>0</th>\n",
       "      <td>trans_id</td>\n",
       "      <td>0</td>\n",
       "      <td>472432</td>\n",
       "    </tr>\n",
       "    <tr>\n",
       "      <th>1</th>\n",
       "      <td>fraud_or_not</td>\n",
       "      <td>0</td>\n",
       "      <td>472432</td>\n",
       "    </tr>\n",
       "    <tr>\n",
       "      <th>2</th>\n",
       "      <td>trans_dt</td>\n",
       "      <td>0</td>\n",
       "      <td>472432</td>\n",
       "    </tr>\n",
       "    <tr>\n",
       "      <th>3</th>\n",
       "      <td>trans_amt</td>\n",
       "      <td>0</td>\n",
       "      <td>472432</td>\n",
       "    </tr>\n",
       "    <tr>\n",
       "      <th>4</th>\n",
       "      <td>prod_code</td>\n",
       "      <td>0</td>\n",
       "      <td>472432</td>\n",
       "    </tr>\n",
       "  </tbody>\n",
       "</table>\n",
       "</div>"
      ],
      "text/plain": [
       "        columns  na_values  non_na_values\n",
       "0      trans_id          0         472432\n",
       "1  fraud_or_not          0         472432\n",
       "2      trans_dt          0         472432\n",
       "3     trans_amt          0         472432\n",
       "4     prod_code          0         472432"
      ]
     },
     "execution_count": 14,
     "metadata": {},
     "output_type": "execute_result"
    }
   ],
   "source": [
    "info_df.head()"
   ]
  },
  {
   "cell_type": "code",
   "execution_count": 15,
   "metadata": {
    "collapsed": true
   },
   "outputs": [],
   "source": [
    "# info_df['%_NA']=info_df['na_values']/info_df['na_values']\n",
    "info_df['%_NA']=(info_df['na_values']/472432)*100"
   ]
  },
  {
   "cell_type": "code",
   "execution_count": 16,
   "metadata": {
    "collapsed": true,
    "scrolled": false
   },
   "outputs": [],
   "source": [
    "info_df=info_df.sort_values(by=['%_NA'],ascending=False).reset_index(drop=True)"
   ]
  },
  {
   "cell_type": "code",
   "execution_count": 17,
   "metadata": {
    "collapsed": true
   },
   "outputs": [],
   "source": [
    "info_df.to_csv(r'../info%.csv',index=False)"
   ]
  },
  {
   "cell_type": "code",
   "execution_count": 18,
   "metadata": {
    "collapsed": true
   },
   "outputs": [],
   "source": [
    "def rename_imp_columns(df):\n",
    "    column_map={'fs_33':'resolution','fs_31':'browser','fs_30':'os','fs_23':'proxy'}\n",
    "    df.rename(columns=column_map,inplace=True)"
   ]
  },
  {
   "cell_type": "code",
   "execution_count": 19,
   "metadata": {
    "collapsed": true
   },
   "outputs": [],
   "source": [
    "rename_imp_columns(dataset)"
   ]
  },
  {
   "cell_type": "code",
   "execution_count": null,
   "metadata": {
    "collapsed": true
   },
   "outputs": [],
   "source": []
  },
  {
   "cell_type": "code",
   "execution_count": 20,
   "metadata": {
    "collapsed": true
   },
   "outputs": [],
   "source": [
    "null_data=dataset.isnull().sum()\n",
    "t=pd.DataFrame({'columns':null_data.index, 'na_count':null_data.values})"
   ]
  },
  {
   "cell_type": "code",
   "execution_count": 21,
   "metadata": {},
   "outputs": [
    {
     "name": "stdout",
     "output_type": "stream",
     "text": [
      "Normal transaction: 455881\n",
      "Fraudulent transaction: 16551\n"
     ]
    }
   ],
   "source": [
    "print (\"Normal transaction:\", dataset['fraud_or_not'][dataset['fraud_or_not'] == 0].count()) #class = 0\n",
    "print (\"Fraudulent transaction:\", dataset['fraud_or_not'][dataset['fraud_or_not'] == 1].count()) "
   ]
  },
  {
   "cell_type": "code",
   "execution_count": 22,
   "metadata": {
    "collapsed": true
   },
   "outputs": [],
   "source": [
    "correct_count=dataset['fraud_or_not'][dataset['fraud_or_not'] == 0].count()\n",
    "fraud_count=dataset['fraud_or_not'][dataset['fraud_or_not'] == 0].count()\n",
    "total_count=dataset['fraud_or_not'].count()\n",
    "total_count,fraud_count,correct_count"
   ]
  },
  {
   "cell_type": "code",
   "execution_count": 24,
   "metadata": {},
   "outputs": [],
   "source": [
    "df_fraud = dataset[dataset['fraud_or_not']==1]\n",
    "df_fraud.describe() \n",
    "df_correct = dataset[dataset['fraud_or_not']==0]\n",
    "df_correct.describe()\n",
    "null_fraud_data=df_fraud.isnull().sum()*100/fraud_count\n",
    "df_fraud_na_per=pd.DataFrame({'column_name':null_fraud_data.index, 'na_percentage':null_fraud_data.values})\n",
    "# df_fraud_na_per"
   ]
  },
  {
   "cell_type": "code",
   "execution_count": 25,
   "metadata": {},
   "outputs": [],
   "source": [
    "df_correct_na_per = pd.DataFrame(df_correct.isnull().sum()*100/correct_count,columns=['na_percentage'])\n",
    "df_correct_na_per = df_correct_na_per.rename_axis('column_name').reset_index()\n",
    "# df_correct_na_per"
   ]
  },
  {
   "cell_type": "code",
   "execution_count": 26,
   "metadata": {
    "collapsed": true
   },
   "outputs": [],
   "source": [
    "df_compare_fraud_correct_na = pd.merge(df_fraud_na_per, df_correct_na_per, how='inner',on=['column_name'],suffixes=('_fraud', '_correct'))\n",
    "df_compare_fraud_correct_na['percentage_change'] = abs(df_compare_fraud_correct_na['na_percentage_fraud'] - df_compare_fraud_correct_na['na_percentage_correct'])\n",
    "df_compare_fraud_correct_na = df_compare_fraud_correct_na.sort_values(by='percentage_change',ascending=False).reset_index(drop=True) "
   ]
  },
  {
   "cell_type": "code",
   "execution_count": null,
   "metadata": {
    "collapsed": true
   },
   "outputs": [],
   "source": []
  }
 ],
 "metadata": {
  "kernelspec": {
   "display_name": "Python 3",
   "language": "python",
   "name": "python3"
  },
  "language_info": {
   "codemirror_mode": {
    "name": "ipython",
    "version": 3
   },
   "file_extension": ".py",
   "mimetype": "text/x-python",
   "name": "python",
   "nbconvert_exporter": "python",
   "pygments_lexer": "ipython3",
   "version": "3.7.3"
  }
 },
 "nbformat": 4,
 "nbformat_minor": 2
}
